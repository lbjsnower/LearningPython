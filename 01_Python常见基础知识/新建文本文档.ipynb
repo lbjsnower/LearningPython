{
 "cells": [
  {
   "cell_type": "markdown",
   "metadata": {},
   "source": [
    "# ����ʶ��"
   ]
  },
  {
   "cell_type": "markdown",
   "metadata": {},
   "source": [
    "# 1. ʵ�����"
   ]
  },
  {
   "cell_type": "markdown",
   "metadata": {},
   "source": [
    "## 1.1  ʵ������"
   ]
  },
  {
   "cell_type": "markdown",
   "metadata": {},
   "source": [
    "��ʵ�������������Eigenface���㷨��������ʶ��\n",
    "\n",
    "��������Eigenface���ǵ�һ����Ч������ʶ�𷽷�����ģ��ѵ�������У�����Ҫ���ݲ����������ƽ������Ȼ��ǰ K ������������������������ K ���������Բ�����������ʶ�𣬴���������������һ������ͼ�񣬿���ʹ����K����������ԭͼ�����ؽ���\n",
    "\n",
    "����ʵ���Ѿ�����ģ�͵Ĵ��룬��׼�����������ݼ�������Ҫ�������룬��ɶ��ʵ�飨���������ҵ���֣�������¼ʵ�������ش����⡣\n"
   ]
  },
  {
   "cell_type": "markdown",
   "metadata": {},
   "source": [
    "## 1.2 ʵ��Ҫ��"
   ]
  },
  {
   "cell_type": "markdown",
   "metadata": {},
   "source": [
    "�Ķ������д��룬�˽���������Eigenface���㷨��ʵ�ֹ��̣�Ȼ�������ҵҪ�󣬸��Ĵ��룬����ʵ�飬����¼ʵ�������ش����⡣"
   ]
  },
  {
   "cell_type": "markdown",
   "metadata": {},
   "source": [
    "## 1.3 �ο�����"
   ]
  },
  {
   "cell_type": "markdown",
   "metadata": {},
   "source": [
    "+ ��������ά���ٿƣ�https://zh.wikipedia.org/wiki/%E7%89%B9%E5%BE%81%E8%84%B8\n",
    "+ Eigenface for Recognition�� https://sites.cs.ucsb.edu/~mturk/Papers/jcn.pdf\n",
    "+ The Yale Face Database�� http://cvc.cs.yale.edu/cvc/projects/yalefaces/yalefaces.html"
   ]
  },
  {
   "cell_type": "markdown",
   "metadata": {},
   "source": [
    "# 2.ʵ�鲿��\n",
    "\n"
   ]
  },
  {
   "cell_type": "markdown",
   "metadata": {},
   "source": [
    "## 2.1 �������ݽ���\n",
    "\n",
    "����ҵ��ʹ�õ�����ͼƬ���� [Yale Face Database](http://cvc.yale.edu/projects/yalefacesB/yalefacesB.html)���������ݼ��������� 10 ��־Ը�ߵ� 5760 ����Ƭ��ÿ��־Ը�ߵ���Ƭ������ 9 ����ͬ�ı����Լ� 64 �ֲ�ͬ�Ĺ���������\n",
    "\n",
    "\n",
    "����ҵ�У�����ֻʹ������ 640 ����������Ƭ����Щ��Ƭ������ datasets/yaleBfaces-momodel �ļ����¡��������ļ��б���˫��������ļ��У��㽫������Щ��Ƭ�ֱ���һ���ķ�Ϊ�� 5 ����ͬ���ļ��У����� subset0 �ļ����е���Ƭ������ʱ�ƹ��Ǵ���������ģ�����������Ƭ���Ƚ��������������� 4 ���ļ��У��� subset1 �� subset4���ƹ������Ƕ�Խ��Խƫ��������Ƭ�е���ӰҲԽ��Խ��\n",
    "\n",
    "\n",
    "�ڱ���ʵ���У�subset0 �ļ����е���Ƭ����Ϊѵ�������� subset1 �� subset4 �� 4 ���ļ����е���Ƭ����Ϊ���Լ���"
   ]
  },
  {
   "cell_type": "code",
   "execution_count": null,
   "metadata": {},
   "outputs": [],
   "source": [
    "# �������ݼ���Ŀ¼·��\n",
    "yaleBfaces_data_base_path = \"./datasets/yalebfaces-momodel/yaleBfaces\""
   ]
  },
  {
   "cell_type": "markdown",
   "metadata": {},
   "source": [
    "����������չʾһ�����ݼ����������Ƭ������"
   ]
  },
  {
   "cell_type": "code",
   "execution_count": null,
   "metadata": {},
   "outputs": [],
   "source": [
    "# �����Ҫ�İ�\n",
    "import matplotlib.pyplot as plt\n",
    "import numpy as np\n",
    "import cv2 as cv\n",
    "from PIL import Image\n",
    "import os"
   ]
  },
  {
   "cell_type": "markdown",
   "metadata": {},
   "source": [
    "���Ƕ���һ����ȡ����ͼƬ�ĺ�����һ��չʾ��Ƭ�ĺ���"
   ]
  },
  {
   "cell_type": "code",
   "execution_count": null,
   "metadata": {},
   "outputs": [],
   "source": [
    "def read_one_img(path):\n",
    "    \"\"\"\n",
    "    ����·����ȡһ������ͼƬ\n",
    "    \n",
    "    :param path: ͼƬ��·��\n",
    "    :return: \n",
    "    \"\"\"\n",
    "    # ͼƬ·��\n",
    "    # �ԻҶ�ģʽ��ȡͼƬ\n",
    "    img_sample = Image.open(path).convert('L')\n",
    "    \n",
    "    # ��ͼƬ��ʽתΪ numpy array ��ʽ\n",
    "    img_sample = np.array(img_sample, 'uint8')\n",
    "    \n",
    "    return img_sample\n",
    "\n",
    "\n",
    "def show_img(img):\n",
    "    \"\"\"\n",
    "    չʾһ��ͼƬ\n",
    "    \n",
    "    :param img: numpy array ��ʽ��ͼƬ\n",
    "    :return: \n",
    "    \"\"\"\n",
    "    # չʾͼƬ\n",
    "    plt.imshow(img, 'gray')\n",
    "    plt.axis('off')\n",
    "    plt.show()"
   ]
  },
  {
   "cell_type": "markdown",
   "metadata": {},
   "source": [
    "ʹ�����涨��ĺ������鿴��Ƭ"
   ]
  },
  {
   "cell_type": "code",
   "execution_count": null,
   "metadata": {},
   "outputs": [],
   "source": [
    "#������Ƭ��·�����в鿴\n",
    "img_sample = read_one_img(os.path.join(yaleBfaces_data_base_path, \"subset0/person01_01.png\"))\n",
    "show_img(img_sample)\n"
   ]
  },
  {
   "cell_type": "markdown",
   "metadata": {},
   "source": [
    "## 2.2 ��ȡѵ������"
   ]
  },
  {
   "cell_type": "markdown",
   "metadata": {},
   "source": [
    "���Ƕ��� `get_images()` ����������������Ƭ��ŵ��ļ���·�����ú�������ȡ������ļ���·���µ�������Ƭ������תΪ 1 ά��ͳһ���浽һ�������У�Ȼ����ͼƬ����ȡ��ǩ�����գ��ú�������������Ƭ��������ÿ����Ƭ�ı�ǩ��"
   ]
  },
  {
   "cell_type": "code",
   "execution_count": null,
   "metadata": {},
   "outputs": [],
   "source": [
    "def get_images(path):\n",
    "    \"\"\"\n",
    "    ��ȡ������ļ���·���µ�������Ƭ����ȡ������ļ���·���µ�������Ƭ������תΪ 1 ά��\n",
    "    ͳһ���浽һ�������У�Ȼ����ͼƬ����ȡ��ǩ�����ոú�������������Ƭ��������ÿ\n",
    "    ����Ƭ�ı�ǩ��\n",
    "    \n",
    "    :param path: ��Ƭ��ŵ��ļ���·��\n",
    "    :return: numpy matrix ��ʽ�Ĵ���õ�ͼƬ���� list ��ʽ�ĸ���ͼƬ�ı�ǩ\n",
    "    \"\"\"\n",
    "    # ���Ȼ�ȡ��������ͼƬ��·��\n",
    "    image_paths = [os.path.join(path, f) for f in os.listdir(path) if\n",
    "                   f.endswith('png')]\n",
    "    \n",
    "    # ���е���������ͼƬ���������� images ���������\n",
    "    images = np.mat(np.zeros((len(image_paths), 2500)))\n",
    "    \n",
    "    trainset_labels = []\n",
    "    \n",
    "    # ����ÿһ��ͼƬ\n",
    "    for index, image_path in enumerate(image_paths):\n",
    "        \n",
    "        # ��ȡͼƬ������תΪ�Ҷ�ͼ\n",
    "        image_pil = Image.open(image_path).convert('L')\n",
    "        \n",
    "        # ��ͼƬתΪ numpy array ��ʽ\n",
    "        image = np.array(image_pil, 'uint8')\n",
    "        \n",
    "        # �� 2 ά��ƽ��ͼ��תΪ 1 ά\n",
    "        img_1D = image.flatten()\n",
    "        \n",
    "        # �Ѵ�����ͼƬ���浽 images ��\n",
    "        images[index, :] = img_1D\n",
    "        \n",
    "        # ��ȡͼƬ����ΪͼƬ�ı�ǩ\n",
    "        trainset_labels.append(image_path.split('/')[-1][6:8])\n",
    "        \n",
    "    # �õ����մ���õ�����ͼƬ�͸���ͼƬ�ı�ǩ\n",
    "    return images.T, trainset_labels"
   ]
  },
  {
   "cell_type": "markdown",
   "metadata": {},
   "source": [
    "���Ǵ� subset0 �ļ����µ�ȡ��ȫ�� 70 ������ͼƬ�����ǩ��Ϊѵ������"
   ]
  },
  {
   "cell_type": "code",
   "execution_count": null,
   "metadata": {},
   "outputs": [],
   "source": [
    "# ����ǰ�涨��õ� get_images �����õ�����õ���������\n",
    "trainset, trainset_labels =  get_images(os.path.join(yaleBfaces_data_base_path, \"subset0\"))"
   ]
  },
  {
   "cell_type": "markdown",
   "metadata": {},
   "source": [
    "���ǿ��Կ�һ�´����ĵ�һ��ͼƬ�� shape �����ǩ�� ע�� shape[0] ���� 2500�� ����Ϊ���ǽ�ÿһ��ͼƬ�� 50 * 50 �ģ����ǽ���� 2 άתΪ�� 1 ά��"
   ]
  },
  {
   "cell_type": "code",
   "execution_count": null,
   "metadata": {},
   "outputs": [],
   "source": [
    "trainset[:,1].shape"
   ]
  },
  {
   "cell_type": "code",
   "execution_count": null,
   "metadata": {},
   "outputs": [],
   "source": [
    "trainset_labels[0]"
   ]
  },
  {
   "cell_type": "markdown",
   "metadata": {},
   "source": [
    "## 2.3 ѵ��ģ��"
   ]
  },
  {
   "cell_type": "markdown",
   "metadata": {},
   "source": [
    "���������ѵ����������Eigenface���㷨�Ĵ��룬����������������ѵ������ϣ����ȡ�������������㷨�ȸ��ݲ����������ƽ������Ȼ�����ѵ��������ÿ������ƽ�����Ĳ��죬�������������ֵ������������ȡǰ K ����������������� K ����������Ȼ��Ϳ��������� K ���������Բ�����������ʶ���ˡ�\n",
    "\n",
    "\n",
    "�����㷨ϸ�ڣ���鿴��������Ĳο����ס�"
   ]
  },
  {
   "cell_type": "code",
   "execution_count": null,
   "metadata": {},
   "outputs": [],
   "source": [
    "def eigen_train(trainset, K=10):\n",
    "    \"\"\"\n",
    "    ѵ����������eigenface���㷨��ʵ��\n",
    "    \n",
    "    :param trainset: ʹ�� get_images �����õ��Ĵ���õ���������ѵ����\n",
    "    :param K: ϣ����ȡ����������\n",
    "    :return: ѵ�����ݵ�ƽ����, ����������, ��ʹ��������������ʾ��ѵ������\n",
    "    \"\"\"\n",
    "    # ʹ�� numpy �� mean �����õ�ƽ����\n",
    "    avg_img = np.mean(trainset, 1)\n",
    "    \n",
    "    # �õ�ÿ������ƽ�����Ĳ���ľ���\n",
    "    diff = trainset - avg_img\n",
    "\n",
    "    # ʹ�� np.linalg.eig �����õ��������� ����ֵ eig_vals �Լ� �������� eig_vects\n",
    "    eig_vals, eig_vects = np.linalg.eig(\n",
    "        np.mat(diff.T * diff))\n",
    "\n",
    "    # �õ������������� normalize\n",
    "    face_vects = diff * eig_vects\n",
    "    l2norm = np.sqrt((face_vects.T * face_vects).diagonal())\n",
    "    face_vects = face_vects/l2norm\n",
    "    \n",
    "    # �õ� topK ��������\n",
    "    face_vects = face_vects[:, 0:K]\n",
    "    \n",
    "    # �õ�ʹ��������������ʾ��ѵ������\n",
    "    trainset_vects = face_vects.T * diff \n",
    "    \n",
    "    # ѵ�����ݵ�ƽ����, ����������, ��ʹ��������������ʾ��ѵ������\n",
    "    return avg_img, face_vects, trainset_vects"
   ]
  },
  {
   "cell_type": "code",
   "execution_count": null,
   "metadata": {},
   "outputs": [],
   "source": [
    "avg_img, face_vects, trainset_vects = eigen_train(trainset, K=10)"
   ]
  },
  {
   "cell_type": "markdown",
   "metadata": {},
   "source": [
    "���ǰ�ƽ������ͼƬ��ԭ�� 2 ά��Ȼ��չʾ��������ƽ����������"
   ]
  },
  {
   "cell_type": "code",
   "execution_count": null,
   "metadata": {},
   "outputs": [],
   "source": [
    "# ��ƽ������ԭΪ 2 ά\n",
    "IMAGE_SIZE = (50,50)\n",
    "avg_img_reshape = avg_img.reshape(IMAGE_SIZE)\n",
    "\n",
    "# չʾ��ԭ���ͼƬ\n",
    "show_img(avg_img_reshape)"
   ]
  },
  {
   "cell_type": "markdown",
   "metadata": {},
   "source": [
    "���ǰ�һ����������ԭ�� 2 ά��Ȼ��չʾ��������"
   ]
  },
  {
   "cell_type": "code",
   "execution_count": null,
   "metadata": {},
   "outputs": [],
   "source": [
    "show_img(face_vects[:, 0].reshape(50, 50))"
   ]
  },
  {
   "cell_type": "markdown",
   "metadata": {},
   "source": [
    "## 2.4 ģ�Ͳ���"
   ]
  },
  {
   "cell_type": "markdown",
   "metadata": {},
   "source": [
    "������������ʹ������õ���ģ���ڲ��Լ��Ͻ��в��ԡ�"
   ]
  },
  {
   "cell_type": "markdown",
   "metadata": {},
   "source": [
    "���ȶ�ȡ subset1 �е�����������Ϊ���Լ�"
   ]
  },
  {
   "cell_type": "code",
   "execution_count": null,
   "metadata": {},
   "outputs": [],
   "source": [
    "# ����ǰ�涨��õ� get_images �����õ�����õ���������\n",
    "testset, testset_labels =  get_images(os.path.join(yaleBfaces_data_base_path, \"subset1\"))"
   ]
  },
  {
   "cell_type": "markdown",
   "metadata": {},
   "source": [
    "Ȼ��ʹ����������Eigenface���㷨�� subset1 �е�������Ƭ����Ԥ�⣬���������ﶨ���� eigenTest ��������������ʹ��������������ʾ��ѵ�����ݣ�ѵ������ƽ���������ݣ�������������ѵ�����ı�ǩ���ݣ��������ݺͲ������ݵı�ǩ��"
   ]
  },
  {
   "cell_type": "code",
   "execution_count": null,
   "metadata": {},
   "outputs": [],
   "source": [
    "def eigen_test(trainset_vects, avg_img, face_vects, trainset_labels,\n",
    "               testset, testset_labels):\n",
    "    \"\"\"\n",
    "    ����������eigenface���㷨������Ĳ��Լ�����Ԥ�⣬����ӡ��Ԥ����ȷ�����ܲ���������\n",
    "    \n",
    "    :param trainset_vects: ʹ��������������ʾ��ѵ������\n",
    "    :param avg_img: ѵ������ƽ����������\n",
    "    :param face_vects: ����������\n",
    "    :param trainset_labels: ѵ�����ı�ǩ����\n",
    "    :param testset: ��������\n",
    "    :param testset_labels: �������ݵı�ǩ\n",
    "    :return: None\n",
    "    \"\"\"\n",
    "    # ����������ݺ�ѵ������ƽ�����Ĳ���\n",
    "    diff_test_avg = testset - avg_img\n",
    "    \n",
    "    # �õ�ʹ��������������ʾ�Ĳ�������\n",
    "    test_vec = face_vects.T * diff_test_avg\n",
    "    \n",
    "    # ��ʼ��ģ��Ԥ�����ȷ��Ϊ 0\n",
    "    right_answer_number = 0\n",
    "    \n",
    "    for i in range(test_vec.shape[1]):\n",
    "        # ��ÿһ�Ų���ͼƬ��������������������ʾ��ÿһ��ѵ��ͼƬ��������������ʾ��ŷʽ���룬\n",
    "        # �õ����������Ƶ�ͼƬ��������������Ƭ�ı�ǩ��Ϊ����Ԥ���ǩ\n",
    "        x = np.square(trainset_vects - test_vec[:, i]).sum(axis=0).argmin()\n",
    "        predict_label = trainset_labels[x]\n",
    "        \n",
    "        # �����ǩ����ʵ��ǩ��ͬ����ģ��Ԥ�����ȷ�� +1\n",
    "        if predict_label == testset_labels[i]:\n",
    "            right_answer_number += 1\n",
    "            \n",
    "    # �鿴ģ��Ԥ����ȷ�����ܵĲ�����Ƭ��\n",
    "    print('Ԥ����ȷ����', right_answer_number)\n",
    "    print('�ܲ�����������', len(testset_labels))\n"
   ]
  },
  {
   "cell_type": "code",
   "execution_count": null,
   "metadata": {},
   "outputs": [],
   "source": [
    "eigen_test(trainset_vects, avg_img, face_vects, trainset_labels, testset,\n",
    "           testset_labels)"
   ]
  },
  {
   "cell_type": "markdown",
   "metadata": {},
   "source": [
    "## 2.5 ʹ�����������ؽ�ͼƬ"
   ]
  },
  {
   "cell_type": "markdown",
   "metadata": {},
   "source": [
    "��������Eigenface���㷨��������������������ʶ�𣬶������������һ��������Ƭ��Ҳ����ʹ�õõ�����������ԭͼ�����ؽ���"
   ]
  },
  {
   "cell_type": "markdown",
   "metadata": {},
   "source": [
    "����ʹ������� subset0 �ж�ȡ����һ����Ƭ�������ٿ�һ��ԭʼ������"
   ]
  },
  {
   "cell_type": "code",
   "execution_count": null,
   "metadata": {},
   "outputs": [],
   "source": [
    "# չʾ��ͼƬ��ԭʼ������\n",
    "show_img(img_sample)"
   ]
  },
  {
   "cell_type": "markdown",
   "metadata": {},
   "source": [
    "������������ʹ��������������ԭʼ��Ƭ���Ƚ�ԭʼ��Ƭ�� 2 άתΪ 1 ά��Ȼ������������Ƭ��ƽ�����Ĳ��죬�ٵõ�ʹ��������������ʾ��������Ƭ"
   ]
  },
  {
   "cell_type": "code",
   "execution_count": null,
   "metadata": {},
   "outputs": [],
   "source": [
    "# �Ȱ���Ƭ�� 2 άתΪ 1 ά\n",
    "img_sample_1D = img_sample.reshape(2500, 1)\n",
    "\n",
    "# �����������Ƭ��ƽ�����Ĳ���\n",
    "diff_sample_avg = img_sample_1D - avg_img\n",
    "\n",
    "# �õ�ʹ��������������ʾ��������Ƭ\n",
    "sample_vec = face_vects.T * diff_sample_avg"
   ]
  },
  {
   "cell_type": "markdown",
   "metadata": {},
   "source": [
    "���������� sample_vec �� shape"
   ]
  },
  {
   "cell_type": "code",
   "execution_count": null,
   "metadata": {},
   "outputs": [],
   "source": [
    "sample_vec.shape"
   ]
  },
  {
   "cell_type": "markdown",
   "metadata": {},
   "source": [
    "���ǿ���ʹ����������������ʾԭʼͼƬ����ԭʼͼƬ�Ĵ洢�ռ��� 2500 ���͵��� 10�����ʵ����ͼƬѹ���洢��Ŀ�ġ�\n",
    "\n",
    "\n",
    "�����������ǽ���ͼƬ�Ļָ���"
   ]
  },
  {
   "cell_type": "code",
   "execution_count": null,
   "metadata": {},
   "outputs": [],
   "source": [
    "# �ָ�ԭʼͼƬ��������� 1 άתΪ 2 ά\n",
    "recovered_sample_img = (face_vects * sample_vec + avg_img).reshape(50, 50)"
   ]
  },
  {
   "cell_type": "code",
   "execution_count": null,
   "metadata": {},
   "outputs": [],
   "source": [
    "# չʾ�ָ����ͼƬ\n",
    "show_img(recovered_sample_img)"
   ]
  },
  {
   "cell_type": "markdown",
   "metadata": {},
   "source": [
    "���ǿ�����ͼƬ��һ���̶��Ͻ����˻ָ������ܶ�ϸ�ڶ�ʧ�ˡ�"
   ]
  },
  {
   "cell_type": "markdown",
   "metadata": {},
   "source": [
    "# 3. ����"
   ]
  },
  {
   "cell_type": "markdown",
   "metadata": {
    "deletable": false
   },
   "source": [
    "### ���� 1:  �۲������������ı仯�Ƿ��Ӱ��ģ�ͱ���(20��)"
   ]
  },
  {
   "cell_type": "markdown",
   "metadata": {
    "deletable": false,
    "question": 1
   },
   "source": [
    "ʹ�ò�ͬ������5 ����10����20��������������������ģ�Ͳ��ԣ��۲��������������������ӣ�ģ�͵ı����Ƿ���б仯��\n",
    "���·�����д�����ʵ������������һ������н��͡�\n"
   ]
  },
  {
   "cell_type": "markdown",
   "metadata": {
    "deletable": false
   },
   "source": [
    "=================== �� 1 ======================\n",
    "\n",
    "˫��������ʼ��д�� 1 ��Ĵ𰸣������ڱ��λ������\n",
    "\n",
    "\n",
    "=============================================="
   ]
  },
  {
   "cell_type": "markdown",
   "metadata": {
    "deletable": false
   },
   "source": [
    "### ����2:  �۲��޳�����Ҫ��������������ʹ��ʣ�����������ģ��Ԥ�⣬ģ�͵ı������(20��)"
   ]
  },
  {
   "cell_type": "markdown",
   "metadata": {
    "question": 1
   },
   "source": [
    "�޳�����Ҫ��������������ʹ��ʣ�������������ģ�Ͳ��ԣ��۲�ģ�͵ı����Ƿ���б仯�� ���·�����д�����ʵ������������һ������н��͡�\n"
   ]
  },
  {
   "cell_type": "markdown",
   "metadata": {
    "deletable": false
   },
   "source": [
    "=================== �� 2 ======================\n",
    "\n",
    "˫��������ʼ��д�� 2 ��Ĵ𰸣������ڱ��λ������\n",
    "\n",
    "\n",
    "=============================================="
   ]
  },
  {
   "cell_type": "markdown",
   "metadata": {},
   "source": [
    "### ���� 3:  �۲���Ƭ�й��յı仯�Ƿ��Ӱ��ģ�ͱ���(20��)"
   ]
  },
  {
   "cell_type": "markdown",
   "metadata": {
    "deletable": false,
    "question": 1
   },
   "source": [
    "����֪���� subset1 �� subset4����Ƭ�еƹ�ĽǶ�Խ��Լƫ��ͼƬ�е���ӰҲԽ��Խ����ô���յĲ�ͬ���ģ����Ӱ���𣿸��Ĵ��룬���� 4 �����Լ��ϲ���ģ�ͣ��۲�ģ�ͱ��֡����·�����д�����ʵ������������һ������н��͡�\n"
   ]
  },
  {
   "cell_type": "markdown",
   "metadata": {
    "deletable": false
   },
   "source": [
    "=================== �� 3 ======================\n",
    "\n",
    "˫��������ʼ��д�� 3 ��Ĵ𰸣������ڱ��λ������\n",
    "\n",
    "\n",
    "=============================================="
   ]
  },
  {
   "cell_type": "markdown",
   "metadata": {
    "deletable": false
   },
   "source": [
    "### ���� 4:  �ֱ�ʹ�� top 3, top5, top 10 �������ؽ���Ƭ���۲����ɵ�ͼƬ(20��)"
   ]
  },
  {
   "cell_type": "markdown",
   "metadata": {
    "deletable": false,
    "question": 1
   },
   "source": [
    "�� subset0 �е���ѡһ����Ƭ��Ȼ��ֱ�ʹ�� top 3, top5, top 10 �������ؽ�����ͼƬ���۲��ؽ����ͼƬ��ԭͼƬ�Ĳ��졣����Ĺ۲���д�����档\n"
   ]
  },
  {
   "cell_type": "markdown",
   "metadata": {
    "deletable": false
   },
   "source": [
    "=================== �� 4 ======================\n",
    "\n",
    "˫��������ʼ��д�� 4 ��Ĵ𰸣������ڱ��λ������\n",
    "\n",
    "\n",
    "=============================================="
   ]
  },
  {
   "cell_type": "markdown",
   "metadata": {
    "deletable": false
   },
   "source": [
    "### ���� 5:  ��������ʶ�����ķ�չ(20��)"
   ]
  },
  {
   "cell_type": "markdown",
   "metadata": {
    "deletable": false,
    "question": 1
   },
   "source": [
    "��һЩ����ʶ������չ��������µļ�����Ӧ�õĳ����ȣ��ĵ��飬����ĵ�����д�����档\n"
   ]
  },
  {
   "cell_type": "markdown",
   "metadata": {
    "deletable": false
   },
   "source": [
    "=================== �� 5 ======================\n",
    "\n",
    "˫��������ʼ��д�� 5 ��Ĵ𰸣������ڱ��λ������\n",
    "\n",
    "\n",
    "=============================================="
   ]
  }
 ],
 "metadata": {
  "kernelspec": {
   "display_name": "Python 3",
   "language": "python",
   "name": "python3"
  },
  "language_info": {
   "codemirror_mode": {
    "name": "ipython",
    "version": 3
   },
   "file_extension": ".py",
   "mimetype": "text/x-python",
   "name": "python",
   "nbconvert_exporter": "python",
   "pygments_lexer": "ipython3",
   "version": "3.5.2"
  }
 },
 "nbformat": 4,
 "nbformat_minor": 2
}
